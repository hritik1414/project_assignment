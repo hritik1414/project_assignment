{
 "cells": [
  {
   "cell_type": "code",
   "execution_count": 2,
   "metadata": {},
   "outputs": [],
   "source": [
    "import torch\n",
    "import torch.nn as nn\n",
    "import torch.optim as optim\n",
    "import torch.nn.functional as F\n",
    "from torch.utils.data import DataLoader, TensorDataset\n",
    "from torchvision import models, transforms, datasets\n",
    "import cv2\n",
    "import os\n",
    "from sklearn.model_selection import train_test_split\n",
    "from tqdm import tqdm\n",
    "import numpy as np\n",
    "from PIL import Image\n",
    "import matplotlib.pyplot as plt\n",
    "from sklearn.metrics import roc_auc_score, accuracy_score, confusion_matrix, precision_score, recall_score, f1_score"
   ]
  },
  {
   "cell_type": "code",
   "execution_count": 3,
   "metadata": {},
   "outputs": [],
   "source": [
    "img_size = (224,224)\n",
    "batch_size = 1\n",
    "num_classes = 10\n",
    "\n",
    "val_transform = transforms.Compose([\n",
    "    transforms.Resize(img_size),\n",
    "    transforms.CenterCrop(img_size),\n",
    "    transforms.ToTensor(),\n",
    "    transforms.Normalize(mean=[0.485, 0.456, 0.406], std=[0.229, 0.224, 0.225])\n",
    "])"
   ]
  },
  {
   "cell_type": "code",
   "execution_count": 5,
   "metadata": {},
   "outputs": [
    {
     "data": {
      "text/plain": [
       "<All keys matched successfully>"
      ]
     },
     "execution_count": 5,
     "metadata": {},
     "output_type": "execute_result"
    }
   ],
   "source": [
    "val_dataset = datasets.CIFAR10(root='data', train=False, download=True, transform=val_transform)\n",
    "test_dataset, val_dataset = train_test_split(val_dataset, test_size=0.2)\n",
    "test_loader = DataLoader(test_dataset, batch_size=batch_size, shuffle=False)\n",
    "\n",
    "model = models.vgg16(pretrained=True)\n",
    "model.classifier[6] = nn.Linear(model.classifier[6].in_features, num_classes)\n",
    "device = torch.device(\"cuda\" if torch.cuda.is_available() else \"cpu\")\n",
    "model = model.to(device)\n",
    "\n",
    "model.load_state_dict(torch.load('myModel.pth'))\n"
   ]
  },
  {
   "cell_type": "code",
   "execution_count": 23,
   "metadata": {},
   "outputs": [
    {
     "name": "stderr",
     "output_type": "stream",
     "text": [
      "100%|███████████████████████████████████████| 8000/8000 [01:50<00:00, 72.25it/s]\n"
     ]
    }
   ],
   "source": [
    "actual_labels = []\n",
    "predicted_labels = []\n",
    "probs = []\n",
    "with torch.no_grad():\n",
    "    for inputs, labels in tqdm(test_loader):\n",
    "        inputs, labels = inputs.to(device), labels.to(device)\n",
    "        outputs = model(inputs)\n",
    "        _, predicted = outputs.max(1)\n",
    "        predicted_probs = F.softmax(outputs, dim=1).detach().to('cpu').numpy()\n",
    "        predicted_labels.append(predicted.item())\n",
    "        actual_labels.append(labels.item())\n",
    "        probs.append(predicted_probs)\n",
    "probs = np.array(probs)\n",
    "probs=probs.reshape(-1, 10)       "
   ]
  },
  {
   "cell_type": "code",
   "execution_count": 26,
   "metadata": {},
   "outputs": [
    {
     "name": "stdout",
     "output_type": "stream",
     "text": [
      "The accuracy is:  0.879\n",
      "The ROC-AUC score is:  0.9918372446636456\n",
      "The precision is:  0.8802457409345767\n",
      "The recall is:  0.879\n",
      "The confusion matrix is: \n",
      "[[685   5  23  11  11   2   5   9  40   3]\n",
      " [  6 767   2   2   0   0   3   0   6   8]\n",
      " [ 16   0 661  18  31  16  47  12   1   0]\n",
      " [  5   2  34 634  28  51  33  13   2   0]\n",
      " [  2   0  24  10 709   8  18  25   0   0]\n",
      " [  1   0  33  69  20 652  11  28   0   0]\n",
      " [  3   0  14  12  14   2 763   0   0   0]\n",
      " [  4   0   9  13  21  11   4 733   0   0]\n",
      " [ 28   3  11   2   4   0   4   0 742   4]\n",
      " [ 16  59   3   8   0   1   2   3  19 686]]\n"
     ]
    }
   ],
   "source": [
    "accuracy = accuracy_score(actual_labels, predicted_labels)\n",
    "auc = roc_auc_score(actual_labels, probs, average='weighted', multi_class='ovr')\n",
    "precision = precision_score(actual_labels, predicted_labels, average='weighted')\n",
    "recall = recall_score(actual_labels, predicted_labels, average='weighted')\n",
    "confusionmatrix = confusion_matrix(actual_labels, predicted_labels)\n",
    "\n",
    "print(\"The accuracy is: \", accuracy)\n",
    "print(\"The ROC-AUC score is: \", auc)\n",
    "print(\"The precision is: \", precision)\n",
    "print(\"The recall is: \", recall)\n",
    "print(\"The confusion matrix is: \")\n",
    "print(confusionmatrix)"
   ]
  }
 ],
 "metadata": {
  "kernelspec": {
   "display_name": "Python 3 (ipykernel)",
   "language": "python",
   "name": "python3"
  },
  "language_info": {
   "codemirror_mode": {
    "name": "ipython",
    "version": 3
   },
   "file_extension": ".py",
   "mimetype": "text/x-python",
   "name": "python",
   "nbconvert_exporter": "python",
   "pygments_lexer": "ipython3",
   "version": "3.12.8"
  }
 },
 "nbformat": 4,
 "nbformat_minor": 4
}
